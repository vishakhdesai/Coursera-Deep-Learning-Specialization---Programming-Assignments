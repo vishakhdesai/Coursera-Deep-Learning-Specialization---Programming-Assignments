{
 "cells": [
  {
   "cell_type": "markdown",
   "metadata": {},
   "source": [
    "# Convolutional Neural Networks: Application\n",
    "\n",
    "Welcome to Course 4's second assignment! In this notebook, you will:\n",
    "\n",
    "- Create a mood classifer using the TF Keras Sequential API\n",
    "- Build a ConvNet to identify sign language digits using the TF Keras Functional API\n",
    "\n",
    "**After this assignment you will be able to:**\n",
    "\n",
    "- Build and train a ConvNet in TensorFlow for a __binary__ classification problem\n",
    "- Build and train a ConvNet in TensorFlow for a __multiclass__ classification problem\n",
    "- Explain different use cases for the Sequential and Functional APIs\n",
    "\n",
    "To complete this assignment, you should already be familiar with TensorFlow. If you are not, please refer back to the **TensorFlow Tutorial** of the third week of Course 2 (\"**Improving deep neural networks**\")."
   ]
  },
  {
   "cell_type": "markdown",
   "metadata": {},
   "source": [
    "## Table of Contents\n",
    "\n",
    "- [1 - Packages](#1)\n",
    "    - [1.1 - Load the Data and Split the Data into Train/Test Sets](#1-1)\n",
    "- [2 - Layers in TF Keras](#2)\n",
    "- [3 - The Sequential API](#3)\n",
    "    - [3.1 - Create the Sequential Model](#3-1)\n",
    "        - [Exercise 1 - happyModel](#ex-1)\n",
    "    - [3.2 - Train and Evaluate the Model](#3-2)\n",
    "- [4 - The Functional API](#4)\n",
    "    - [4.1 - Load the SIGNS Dataset](#4-1)\n",
    "    - [4.2 - Split the Data into Train/Test Sets](#4-2)\n",
    "    - [4.3 - Forward Propagation](#4-3)\n",
    "        - [Exercise 2 - convolutional_model](#ex-2)\n",
    "    - [4.4 - Train the Model](#4-4)\n",
    "- [5 - History Object](#5)\n",
    "- [6 - Bibliography](#6)"
   ]
  },
  {
   "cell_type": "markdown",
   "metadata": {},
   "source": [
    "<a name='1'></a>\n",
    "## 1 - Packages\n",
    "\n",
    "As usual, begin by loading in the packages."
   ]
  },
  {
   "cell_type": "code",
   "execution_count": 1,
   "metadata": {},
   "outputs": [],
   "source": [
    "import math\n",
    "import numpy as np\n",
    "import h5py\n",
    "import matplotlib.pyplot as plt\n",
    "from matplotlib.pyplot import imread\n",
    "import scipy\n",
    "from PIL import Image\n",
    "import pandas as pd\n",
    "import tensorflow as tf\n",
    "import tensorflow.keras.layers as tfl\n",
    "from tensorflow.python.framework import ops\n",
    "from cnn_utils import *\n",
    "from test_utils import summary, comparator\n",
    "\n",
    "%matplotlib inline\n",
    "np.random.seed(1)"
   ]
  },
  {
   "cell_type": "markdown",
   "metadata": {},
   "source": [
    "<a name='1-1'></a>\n",
    "### 1.1 - Load the Data and Split the Data into Train/Test Sets\n",
    "\n",
    "You'll be using the Happy House dataset for this part of the assignment, which contains images of peoples' faces. Your task will be to build a ConvNet that determines whether the people in the images are smiling or not -- because they only get to enter the house if they're smiling!  "
   ]
  },
  {
   "cell_type": "code",
   "execution_count": 2,
   "metadata": {},
   "outputs": [
    {
     "name": "stdout",
     "output_type": "stream",
     "text": [
      "number of training examples = 600\n",
      "number of test examples = 150\n",
      "X_train shape: (600, 64, 64, 3)\n",
      "Y_train shape: (600, 1)\n",
      "X_test shape: (150, 64, 64, 3)\n",
      "Y_test shape: (150, 1)\n"
     ]
    }
   ],
   "source": [
    "X_train_orig, Y_train_orig, X_test_orig, Y_test_orig, classes = load_happy_dataset()\n",
    "\n",
    "# Normalize image vectors\n",
    "X_train = X_train_orig/255.\n",
    "X_test = X_test_orig/255.\n",
    "\n",
    "# Reshape\n",
    "Y_train = Y_train_orig.T\n",
    "Y_test = Y_test_orig.T\n",
    "\n",
    "print (\"number of training examples = \" + str(X_train.shape[0]))\n",
    "print (\"number of test examples = \" + str(X_test.shape[0]))\n",
    "print (\"X_train shape: \" + str(X_train.shape))\n",
    "print (\"Y_train shape: \" + str(Y_train.shape))\n",
    "print (\"X_test shape: \" + str(X_test.shape))\n",
    "print (\"Y_test shape: \" + str(Y_test.shape))"
   ]
  },
  {
   "cell_type": "markdown",
   "metadata": {},
   "source": [
    "You can display the images contained in the dataset. Images are **64x64** pixels in RGB format (3 channels)."
   ]
  },
  {
   "cell_type": "code",
   "execution_count": 3,
   "metadata": {},
   "outputs": [
    {
     "data": {
      "image/png": "[encoded data removed]",
      "text/plain": [
       "<Figure size 432x288 with 1 Axes>"
      ]
     },
     "metadata": {
      "needs_background": "light"
     },
     "output_type": "display_data"
    }
   ],
   "source": [
    "index = 124\n",
    "plt.imshow(X_train_orig[index]) #display sample training image\n",
    "plt.show()"
   ]
  },
  {
   "cell_type": "markdown",
   "metadata": {},
   "source": [
    "<a name='2'></a>\n",
    "## 2 - Layers in TF Keras \n",
    "\n",
    "In the previous assignment, you created layers manually in numpy. In TF Keras, you don't have to write code directly to create layers. Rather, TF Keras has pre-defined layers you can use. \n",
    "\n",
    "When you create a layer in TF Keras, you are creating a function that takes some input and transforms it into an output you can reuse later. Nice and easy! "
   ]
  },
  {
   "cell_type": "markdown",
   "metadata": {},
   "source": [
    "<a name='3'></a>\n",
    "## 3 - The Sequential API\n",
    "\n",
    "In the previous assignment, you built helper functions using `numpy` to understand the mechanics behind convolutional neural networks. Most practical applications of deep learning today are built using programming frameworks, which have many built-in functions you can simply call. Keras is a high-level abstraction built on top of TensorFlow, which allows for even more simplified and optimized model creation and training. \n",
    "\n",
    "For the first part of this assignment, you'll create a model using TF Keras' Sequential API, which allows you to build layer by layer, and is ideal for building models where each layer has **exactly one** input tensor and **one** output tensor. \n",
    "\n",
    "As you'll see, using the Sequential API is simple and straightforward, but is only appropriate for simpler, more straightforward tasks. Later in this notebook you'll spend some time building with a more flexible, powerful alternative: the Functional API. \n",
    " "
   ]
  },
  {
   "cell_type": "markdown",
   "metadata": {},
   "source": [
    "<a name='3-1'></a>\n",
    "### 3.1 - Create the Sequential Model\n",
    "\n",
    "As mentioned earlier, the TensorFlow Keras Sequential API can be used to build simple models with layer operations that proceed in a sequential order. \n",
    "\n",
    "You can also add layers incrementally to a Sequential model with the `.add()` method, or remove them using the `.pop()` method, much like you would in a regular Python list.\n",
    "\n",
    "Actually, you can think of a Sequential model as behaving like a list of layers. Like Python lists, Sequential layers are ordered, and the order in which they are specified matters.  If your model is non-linear or contains layers with multiple inputs or outputs, a Sequential model wouldn't be the right choice!\n",
    "\n",
    "For any layer construction in Keras, you'll need to specify the input shape in advance. This is because in Keras, the shape of the weights is based on the shape of the inputs. The weights are only created when the model first sees some input data. Sequential models can be created by passing a list of layers to the Sequential constructor, like you will do in the next assignment.\n",
    "\n",
    "<a name='ex-1'></a>\n",
    "### Exercise 1 - happyModel\n",
    "\n",
    "Implement the `happyModel` function below to build the following model: `ZEROPAD2D -> CONV2D -> BATCHNORM -> RELU -> MAXPOOL -> FLATTEN -> DENSE`. Take help from [tf.keras.layers](https://www.tensorflow.org/api_docs/python/tf/keras/layers) \n",
    "\n",
    "Also, plug in the following parameters for all the steps:\n",
    "\n",
    " - [ZeroPadding2D](https://www.tensorflow.org/api_docs/python/tf/keras/layers/ZeroPadding2D): padding 3, input shape 64 x 64 x 3\n",
    " - [Conv2D](https://www.tensorflow.org/api_docs/python/tf/keras/layers/Conv2D): Use 32 7x7 filters, stride 1\n",
    " - [BatchNormalization](https://www.tensorflow.org/api_docs/python/tf/keras/layers/BatchNormalization): for axis 3\n",
    " - [ReLU](https://www.tensorflow.org/api_docs/python/tf/keras/layers/ReLU)\n",
    " - [MaxPool2D](https://www.tensorflow.org/api_docs/python/tf/keras/layers/MaxPool2D): Using default parameters\n",
    " - [Flatten](https://www.tensorflow.org/api_docs/python/tf/keras/layers/Flatten) the previous output.\n",
    " - Fully-connected ([Dense](https://www.tensorflow.org/api_docs/python/tf/keras/layers/Dense)) layer: Apply a fully connected layer with 1 neuron and a sigmoid activation. \n",
    " \n",
    " \n",
    " **Hint:**\n",
    " \n",
    " Use **tfl** as shorthand for **tensorflow.keras.layers**"
   ]
  },
  {
   "cell_type": "code",
   "execution_count": 9,
   "metadata": {
    "deletable": false,
    "nbgrader": {
     "cell_type": "code",
     "checksum": "95d28b191f257bdd5b70c7b8952559d5",
     "grade": false,
     "grade_id": "cell-0e56d3fc28b69aec",
     "locked": false,
     "schema_version": 3,
     "solution": true,
     "task": false
    }
   },
   "outputs": [],
   "source": [
    "# GRADED FUNCTION: happyModel\n",
    "\n",
    "def happyModel():\n",
    "    \"\"\"\n",
    "    Implements the forward propagation for the binary classification model:\n",
    "    ZEROPAD2D -> CONV2D -> BATCHNORM -> RELU -> MAXPOOL -> FLATTEN -> DENSE\n",
    "    \n",
    "    Note that for simplicity and grading purposes, you'll hard-code all the values\n",
    "    such as the stride and kernel (filter) sizes. \n",
    "    Normally, functions should take these values as function parameters.\n",
    "    \n",
    "    Arguments:\n",
    "    None\n",
    "\n",
    "    Returns:\n",
    "    model -- TF Keras model (object containing the information for the entire training process) \n",
    "    \"\"\"\n",
    "    model = tf.keras.Sequential([\n",
    "            ## ZeroPadding2D with padding 3, input shape of 64 x 64 x 3\n",
    "            \n",
    "            ## Conv2D with 32 7x7 filters and stride of 1\n",
    "            \n",
    "            ## BatchNormalization for axis 3\n",
    "            \n",
    "            ## ReLU\n",
    "            \n",
    "            ## Max Pooling 2D with default parameters\n",
    "            \n",
    "            ## Flatten layer\n",
    "            \n",
    "            ## Dense layer with 1 unit for output & 'sigmoid' activation\n",
    "            \n",
    "            # YOUR CODE STARTS HERE\n",
    "            tfl.ZeroPadding2D(padding=(3,3), input_shape=(64,64,3)),\n",
    "            tfl.Conv2D(32,(7,7)),\n",
    "            tfl.BatchNormalization(axis=-1),\n",
    "            tfl.ReLU(),\n",
    "            tfl.MaxPooling2D(),\n",
    "            tfl.Flatten(),\n",
    "            tfl.Dense(1, activation='sigmoid')\n",
    "            # YOUR CODE ENDS HERE\n",
    "        ])\n",
    "    \n",
    "    return model"
   ]
  },
  {
   "cell_type": "code",
   "execution_count": 10,
   "metadata": {
    "deletable": false,
    "editable": false,
    "nbgrader": {
     "cell_type": "code",
     "checksum": "8d3575c950e2e78149be2d05d671c80d",
     "grade": true,
     "grade_id": "cell-e3e1046e5c33d775",
     "locked": true,
     "points": 10,
     "schema_version": 3,
     "solution": false,
     "task": false
    }
   },
   "outputs": [
    {
     "name": "stdout",
     "output_type": "stream",
     "text": [
      "['ZeroPadding2D', (None, 70, 70, 3), 0, ((3, 3), (3, 3))]\n",
      "['Conv2D', (None, 64, 64, 32), 4736, 'valid', 'linear', 'GlorotUniform']\n",
      "['BatchNormalization', (None, 64, 64, 32), 128]\n",
      "['ReLU', (None, 64, 64, 32), 0]\n",
      "['MaxPooling2D', (None, 32, 32, 32), 0, (2, 2), (2, 2), 'valid']\n",
      "['Flatten', (None, 32768), 0]\n",
      "['Dense', (None, 1), 32769, 'sigmoid']\n",
      "\u001b[32mAll tests passed!\u001b[0m\n"
     ]
    }
   ],
   "source": [
    "happy_model = happyModel()\n",
    "# Print a summary for each layer\n",
    "for layer in summary(happy_model):\n",
    "    print(layer)\n",
    "    \n",
    "output = [['ZeroPadding2D', (None, 70, 70, 3), 0, ((3, 3), (3, 3))],\n",
    "            ['Conv2D', (None, 64, 64, 32), 4736, 'valid', 'linear', 'GlorotUniform'],\n",
    "            ['BatchNormalization', (None, 64, 64, 32), 128],\n",
    "            ['ReLU', (None, 64, 64, 32), 0],\n",
    "            ['MaxPooling2D', (None, 32, 32, 32), 0, (2, 2), (2, 2), 'valid'],\n",
    "            ['Flatten', (None, 32768), 0],\n",
    "            ['Dense', (None, 1), 32769, 'sigmoid']]\n",
    "    \n",
    "comparator(summary(happy_model), output)"
   ]
  },
  {
   "cell_type": "markdown",
   "metadata": {},
   "source": [
    "Now that your model is created, you can compile it for training with an optimizer and loss of your choice. When the string `accuracy` is specified as a metric, the type of accuracy used will be automatically converted based on the loss function used. This is one of the many optimizations built into TensorFlow that make your life easier! If you'd like to read more on how the compiler operates, check the docs [here](https://www.tensorflow.org/api_docs/python/tf/keras/Model#compile)."
   ]
  },
  {
   "cell_type": "code",
   "execution_count": 11,
   "metadata": {},
   "outputs": [],
   "source": [
    "happy_model.compile(optimizer='adam',\n",
    "                   loss='binary_crossentropy',\n",
    "                   metrics=['accuracy'])"
   ]
  },
  {
   "cell_type": "markdown",
   "metadata": {},
   "source": [
    "It's time to check your model's parameters with the `.summary()` method. This will display the types of layers you have, the shape of the outputs, and how many parameters are in each layer. "
   ]
  },
  {
   "cell_type": "code",
   "execution_count": 12,
   "metadata": {},
   "outputs": [
    {
     "name": "stdout",
     "output_type": "stream",
     "text": [
      "Model: \"sequential\"\n",
      "_________________________________________________________________\n",
      "Layer (type)                 Output Shape              Param #   \n",
      "=================================================================\n",
      "zero_padding2d (ZeroPadding2 (None, 70, 70, 3)         0         \n",
      "_________________________________________________________________\n",
      "conv2d (Conv2D)              (None, 64, 64, 32)        4736      \n",
      "_________________________________________________________________\n",
      "batch_normalization (BatchNo (None, 64, 64, 32)        128       \n",
      "_________________________________________________________________\n",
      "re_lu (ReLU)                 (None, 64, 64, 32)        0         \n",
      "_________________________________________________________________\n",
      "max_pooling2d (MaxPooling2D) (None, 32, 32, 32)        0         \n",
      "_________________________________________________________________\n",
      "flatten (Flatten)            (None, 32768)             0         \n",
      "_________________________________________________________________\n",
      "dense (Dense)                (None, 1)                 32769     \n",
      "=================================================================\n",
      "Total params: 37,633\n",
      "Trainable params: 37,569\n",
      "Non-trainable params: 64\n",
      "_________________________________________________________________\n"
     ]
    }
   ],
   "source": [
    "happy_model.summary()"
   ]
  },
  {
   "cell_type": "markdown",
   "metadata": {},
   "source": [
    "<a name='3-2'></a>\n",
    "### 3.2 - Train and Evaluate the Model\n",
    "\n",
    "After creating the model, compiling it with your choice of optimizer and loss function, and doing a sanity check on its contents, you are now ready to build! \n",
    "\n",
    "Simply call `.fit()` to train. That's it! No need for mini-batching, saving, or complex backpropagation computations. That's all been done for you, as you're using a TensorFlow dataset with the batches specified already. You do have the option to specify epoch number or minibatch size if you like (for example, in the case of an un-batched dataset)."
   ]
  },
  {
   "cell_type": "code",
   "execution_count": 13,
   "metadata": {},
   "outputs": [
    {
     "name": "stdout",
     "output_type": "stream",
     "text": [
      "Epoch 1/10\n",
      "38/38 [==============================] - 4s 100ms/step - loss: 0.6202 - accuracy: 0.7800\n",
      "Epoch 2/10\n",
      "38/38 [==============================] - 3s 87ms/step - loss: 0.2410 - accuracy: 0.8983\n",
      "Epoch 3/10\n",
      "38/38 [==============================] - 3s 92ms/step - loss: 0.1083 - accuracy: 0.9583\n",
      "Epoch 4/10\n",
      "38/38 [==============================] - 3s 92ms/step - loss: 0.3380 - accuracy: 0.8750\n",
      "Epoch 5/10\n",
      "38/38 [==============================] - 3s 87ms/step - loss: 0.3567 - accuracy: 0.9000\n",
      "Epoch 6/10\n",
      "38/38 [==============================] - 3s 90ms/step - loss: 0.1001 - accuracy: 0.9667\n",
      "Epoch 7/10\n",
      "38/38 [==============================] - 3s 87ms/step - loss: 0.0567 - accuracy: 0.9783\n",
      "Epoch 8/10\n",
      "38/38 [==============================] - 3s 89ms/step - loss: 0.0812 - accuracy: 0.9767\n",
      "Epoch 9/10\n",
      "38/38 [==============================] - 3s 85ms/step - loss: 0.0458 - accuracy: 0.9867\n",
      "Epoch 10/10\n",
      "38/38 [==============================] - 3s 87ms/step - loss: 0.0634 - accuracy: 0.9767\n"
     ]
    },
    {
     "data": {
      "text/plain": [
       "<tensorflow.python.keras.callbacks.History at 0x7f28749b4110>"
      ]
     },
     "execution_count": 13,
     "metadata": {},
     "output_type": "execute_result"
    }
   ],
   "source": [
    "happy_model.fit(X_train, Y_train, epochs=10, batch_size=16)"
   ]
  },
  {
   "cell_type": "markdown",
   "metadata": {},
   "source": [
    "After that completes, just use `.evaluate()` to evaluate against your test set. This function will print the value of the loss function and the performance metrics specified during the compilation of the model. In this case, the `binary_crossentropy` and the `accuracy` respectively."
   ]
  },
  {
   "cell_type": "code",
   "execution_count": 14,
   "metadata": {},
   "outputs": [
    {
     "name": "stdout",
     "output_type": "stream",
     "text": [
      "5/5 [==============================] - 0s 33ms/step - loss: 0.1406 - accuracy: 0.9467\n"
     ]
    },
    {
     "data": {
      "text/plain": [
       "[0.14061729609966278, 0.9466666579246521]"
      ]
     },
     "execution_count": 14,
     "metadata": {},
     "output_type": "execute_result"
    }
   ],
   "source": [
    "happy_model.evaluate(X_test, Y_test)"
   ]
  },
  {
   "cell_type": "markdown",
   "metadata": {},
   "source": [
    "Easy, right? But what if you need to build a model with shared layers, branches, or multiple inputs and outputs? This is where Sequential, with its beautifully simple yet limited functionality, won't be able to help you. \n",
    "\n",
    "Next up: Enter the Functional API, your slightly more complex, highly flexible friend.  "
   ]
  },
  {
   "cell_type": "markdown",
   "metadata": {},
   "source": [
    "<a name='4'></a>\n",
    "## 4 - The Functional API"
   ]
  },
  {
   "cell_type": "markdown",
   "metadata": {},
   "source": [
    "Welcome to the second half of the assignment, where you'll use Keras' flexible [Functional API](https://www.tensorflow.org/guide/keras/functional) to build a ConvNet that can differentiate between 6 sign language digits. \n",
    "\n",
    "The Functional API can handle models with non-linear topology, shared layers, as well as layers with multiple inputs or outputs. Imagine that, where the Sequential API requires the model to move in a linear fashion through its layers, the Functional API allows much more flexibility. Where Sequential is a straight line, a Functional model is a graph, where the nodes of the layers can connect in many more ways than one. \n",
    "\n",
    "In the visual example below, the one possible direction of the movement Sequential model is shown in contrast to a skip connection, which is just one of the many ways a Functional model can be constructed. A skip connection, as you might have guessed, skips some layer in the network and feeds the output to a later layer in the network. Don't worry, you'll be spending more time with skip connections very soon! "
   ]
  },
  {
   "cell_type": "markdown",
   "metadata": {},
   "source": [
    "<img src=\"images/seq_vs_func.png\" style=\"width:350px;height:200px;\">"
   ]
  },
  {
   "cell_type": "markdown",
   "metadata": {},
   "source": [
    "<a name='4-1'></a>\n",
    "### 4.1 - Load the SIGNS Dataset\n",
    "\n",
    "As a reminder, the SIGNS dataset is a collection of 6 signs representing numbers from 0 to 5."
   ]
  },
  {
   "cell_type": "code",
   "execution_count": 15,
   "metadata": {},
   "outputs": [],
   "source": [
    "# Loading the data (signs)\n",
    "X_train_orig, Y_train_orig, X_test_orig, Y_test_orig, classes = load_signs_dataset()"
   ]
  },
  {
   "cell_type": "markdown",
   "metadata": {},
   "source": [
    "<img src=\"images/SIGNS.png\" style=\"width:800px;height:300px;\">\n",
    "\n",
    "The next cell will show you an example of a labelled image in the dataset. Feel free to change the value of `index` below and re-run to see different examples. "
   ]
  },
  {
   "cell_type": "code",
   "execution_count": 22,
   "metadata": {},
   "outputs": [
    {
     "name": "stdout",
     "output_type": "stream",
     "text": [
      "y = 3\n"
     ]
    },
    {
     "data": {
      "image/png": "[encoded data removed]",
      "text/plain": [
       "<Figure size 432x288 with 1 Axes>"
      ]
     },
     "metadata": {
      "needs_background": "light"
     },
     "output_type": "display_data"
    }
   ],
   "source": [
    "# Example of an image from the dataset\n",
    "index = 1001\n",
    "plt.imshow(X_train_orig[index])\n",
    "print (\"y = \" + str(np.squeeze(Y_train_orig[:, index])))"
   ]
  },
  {
   "cell_type": "markdown",
   "metadata": {},
   "source": [
    "<a name='4-2'></a>\n",
    "### 4.2 - Split the Data into Train/Test Sets\n",
    "\n",
    "In Course 2, you built a fully-connected network for this dataset. But since this is an image dataset, it is more natural to apply a ConvNet to it.\n",
    "\n",
    "To get started, let's examine the shapes of your data. "
   ]
  },
  {
   "cell_type": "code",
   "execution_count": 23,
   "metadata": {},
   "outputs": [
    {
     "name": "stdout",
     "output_type": "stream",
     "text": [
      "number of training examples = 1080\n",
      "number of test examples = 120\n",
      "X_train shape: (1080, 64, 64, 3)\n",
      "Y_train shape: (1080, 6)\n",
      "X_test shape: (120, 64, 64, 3)\n",
      "Y_test shape: (120, 6)\n"
     ]
    }
   ],
   "source": [
    "X_train = X_train_orig/255.\n",
    "X_test = X_test_orig/255.\n",
    "Y_train = convert_to_one_hot(Y_train_orig, 6).T\n",
    "Y_test = convert_to_one_hot(Y_test_orig, 6).T\n",
    "print (\"number of training examples = \" + str(X_train.shape[0]))\n",
    "print (\"number of test examples = \" + str(X_test.shape[0]))\n",
    "print (\"X_train shape: \" + str(X_train.shape))\n",
    "print (\"Y_train shape: \" + str(Y_train.shape))\n",
    "print (\"X_test shape: \" + str(X_test.shape))\n",
    "print (\"Y_test shape: \" + str(Y_test.shape))"
   ]
  },
  {
   "cell_type": "markdown",
   "metadata": {},
   "source": [
    "<a name='4-3'></a>\n",
    "### 4.3 - Forward Propagation\n",
    "\n",
    "In TensorFlow, there are built-in functions that implement the convolution steps for you. By now, you should be familiar with how TensorFlow builds computational graphs. In the [Functional API](https://www.tensorflow.org/guide/keras/functional), you create a graph of layers. This is what allows such great flexibility.\n",
    "\n",
    "However, the following model could also be defined using the Sequential API since the information flow is on a single line. But don't deviate. What we want you to learn is to use the functional API.\n",
    "\n",
    "Begin building your graph of layers by creating an input node that functions as a callable object:\n",
    "\n",
    "- **input_img = tf.keras.Input(shape=input_shape):** \n",
    "\n",
    "Then, create a new node in the graph of layers by calling a layer on the `input_img` object: \n",
    "\n",
    "- **tf.keras.layers.Conv2D(filters= ... , kernel_size= ... , padding='same')(input_img):** Read the full documentation on [Conv2D](https://www.tensorflow.org/api_docs/python/tf/keras/layers/Conv2D).\n",
    "\n",
    "- **tf.keras.layers.MaxPool2D(pool_size=(f, f), strides=(s, s), padding='same'):** `MaxPool2D()` downsamples your input using a window of size (f, f) and strides of size (s, s) to carry out max pooling over each window.  For max pooling, you usually operate on a single example at a time and a single channel at a time. Read the full documentation on [MaxPool2D](https://www.tensorflow.org/api_docs/python/tf/keras/layers/MaxPool2D).\n",
    "\n",
    "- **tf.keras.layers.ReLU():** computes the elementwise ReLU of Z (which can be any shape). You can read the full documentation on [ReLU](https://www.tensorflow.org/api_docs/python/tf/keras/layers/ReLU).\n",
    "\n",
    "- **tf.keras.layers.Flatten()**: given a tensor \"P\", this function takes each training (or test) example in the batch and flattens it into a 1D vector.  \n",
    "\n",
    "    * If a tensor P has the shape (batch_size,h,w,c), it returns a flattened tensor with shape (batch_size, k), where $k=h \\times w \\times c$.  \"k\" equals the product of all the dimension sizes other than the first dimension.\n",
    "    \n",
    "    * For example, given a tensor with dimensions [100, 2, 3, 4], it flattens the tensor to be of shape [100, 24], where 24 = 2 * 3 * 4.  You can read the full documentation on [Flatten](https://www.tensorflow.org/api_docs/python/tf/keras/layers/Flatten).\n",
    "\n",
    "- **tf.keras.layers.Dense(units= ... , activation='softmax')(F):** given the flattened input F, it returns the output computed using a fully connected layer. You can read the full documentation on [Dense](https://www.tensorflow.org/api_docs/python/tf/keras/layers/Dense).\n",
    "\n",
    "In the last function above (`tf.keras.layers.Dense()`), the fully connected layer automatically initializes weights in the graph and keeps on training them as you train the model. Hence, you did not need to initialize those weights when initializing the parameters.\n",
    "\n",
    "Lastly, before creating the model, you'll need to define the output using the last of the function's compositions (in this example, a Dense layer): \n",
    "\n",
    "- **outputs = tf.keras.layers.Dense(units=6, activation='softmax')(F)**\n",
    "\n",
    "\n",
    "#### Window, kernel, filter, pool\n",
    "\n",
    "The words \"kernel\" and \"filter\" are used to refer to the same thing. The word \"filter\" accounts for the amount of \"kernels\" that will be used in a single convolution layer. \"Pool\" is the name of the operation that takes the max or average value of the kernels. \n",
    "\n",
    "This is why the parameter `pool_size` refers to `kernel_size`, and you use `(f,f)` to refer to the filter size. \n",
    "\n",
    "Pool size and kernel size refer to the same thing in different objects - They refer to the shape of the window where the operation takes place. "
   ]
  },
  {
   "cell_type": "markdown",
   "metadata": {},
   "source": [
    "<a name='ex-2'></a>\n",
    "### Exercise 2 - convolutional_model\n",
    "\n",
    "Implement the `convolutional_model` function below to build the following model: `CONV2D -> RELU -> MAXPOOL -> CONV2D -> RELU -> MAXPOOL -> FLATTEN -> DENSE`. Use the functions above! \n",
    "\n",
    "Also, plug in the following parameters for all the steps:\n",
    "\n",
    " - [Conv2D](https://www.tensorflow.org/api_docs/python/tf/keras/layers/Conv2D): Use 8 4 by 4 filters, stride 1, padding is \"SAME\"\n",
    " - [ReLU](https://www.tensorflow.org/api_docs/python/tf/keras/layers/ReLU)\n",
    " - [MaxPool2D](https://www.tensorflow.org/api_docs/python/tf/keras/layers/MaxPool2D): Use an 8 by 8 filter size and an 8 by 8 stride, padding is \"SAME\"\n",
    " - **Conv2D**: Use 16 2 by 2 filters, stride 1, padding is \"SAME\"\n",
    " - **ReLU**\n",
    " - **MaxPool2D**: Use a 4 by 4 filter size and a 4 by 4 stride, padding is \"SAME\"\n",
    " - [Flatten](https://www.tensorflow.org/api_docs/python/tf/keras/layers/Flatten) the previous output.\n",
    " - Fully-connected ([Dense](https://www.tensorflow.org/api_docs/python/tf/keras/layers/Dense)) layer: Apply a fully connected layer with 6 neurons and a softmax activation. "
   ]
  },
  {
   "cell_type": "code",
   "execution_count": 24,
   "metadata": {
    "deletable": false,
    "nbgrader": {
     "cell_type": "code",
     "checksum": "f58643806aa8380c96225fc8b4c5e7aa",
     "grade": false,
     "grade_id": "cell-dac51744a9e03f51",
     "locked": false,
     "schema_version": 3,
     "solution": true,
     "task": false
    }
   },
   "outputs": [],
   "source": [
    "# GRADED FUNCTION: convolutional_model\n",
    "\n",
    "def convolutional_model(input_shape):\n",
    "    \"\"\"\n",
    "    Implements the forward propagation for the model:\n",
    "    CONV2D -> RELU -> MAXPOOL -> CONV2D -> RELU -> MAXPOOL -> FLATTEN -> DENSE\n",
    "    \n",
    "    Note that for simplicity and grading purposes, you'll hard-code some values\n",
    "    such as the stride and kernel (filter) sizes. \n",
    "    Normally, functions should take these values as function parameters.\n",
    "    \n",
    "    Arguments:\n",
    "    input_img -- input dataset, of shape (input_shape)\n",
    "\n",
    "    Returns:\n",
    "    model -- TF Keras model (object containing the information for the entire training process) \n",
    "    \"\"\"\n",
    "\n",
    "    input_img = tf.keras.Input(shape=input_shape)\n",
    "    ## CONV2D: 8 filters 4x4, stride of 1, padding 'SAME'\n",
    "    # Z1 = None\n",
    "    ## RELU\n",
    "    # A1 = None\n",
    "    ## MAXPOOL: window 8x8, stride 8, padding 'SAME'\n",
    "    # P1 = None\n",
    "    ## CONV2D: 16 filters 2x2, stride 1, padding 'SAME'\n",
    "    # Z2 = None\n",
    "    ## RELU\n",
    "    # A2 = None\n",
    "    ## MAXPOOL: window 4x4, stride 4, padding 'SAME'\n",
    "    # P2 = None\n",
    "    ## FLATTEN\n",
    "    # F = None\n",
    "    ## Dense layer\n",
    "    ## 6 neurons in output layer. Hint: one of the arguments should be \"activation='softmax'\" \n",
    "    # outputs = None\n",
    "    # YOUR CODE STARTS HERE\n",
    "    Z1 = tfl.Conv2D(filters = 8, kernel_size = 4, padding = 'same', strides = 1)(input_img)\n",
    "    A1 = tfl.ReLU()(Z1)\n",
    "    P1 = tfl.MaxPool2D(pool_size=(8, 8), strides=(8, 8), padding='same')(A1)\n",
    "    Z2 = tfl.Conv2D(filters = 16, kernel_size = 2, padding = 'same',strides=1)(P1)\n",
    "    A2 = tfl.ReLU()(Z2)\n",
    "    P2 = tfl.MaxPool2D(pool_size=(4, 4), strides=(4, 4), padding='same')(A2)\n",
    "    F = tfl.Flatten()(P2)\n",
    "    outputs = tfl.Dense(units = 6,activation = 'softmax')(F)\n",
    "    \n",
    "    # YOUR CODE ENDS HERE\n",
    "    model = tf.keras.Model(inputs=input_img, outputs=outputs)\n",
    "    return model"
   ]
  },
  {
   "cell_type": "code",
   "execution_count": 25,
   "metadata": {
    "deletable": false,
    "editable": false,
    "nbgrader": {
     "cell_type": "code",
     "checksum": "483d626949930a0b0ef20997e7c6ba72",
     "grade": true,
     "grade_id": "cell-45d22e92042174c9",
     "locked": true,
     "points": 10,
     "schema_version": 3,
     "solution": false,
     "task": false
    }
   },
   "outputs": [
    {
     "name": "stdout",
     "output_type": "stream",
     "text": [
      "Model: \"functional_1\"\n",
      "_________________________________________________________________\n",
      "Layer (type)                 Output Shape              Param #   \n",
      "=================================================================\n",
      "input_1 (InputLayer)         [(None, 64, 64, 3)]       0         \n",
      "_________________________________________________________________\n",
      "conv2d_1 (Conv2D)            (None, 64, 64, 8)         392       \n",
      "_________________________________________________________________\n",
      "re_lu_1 (ReLU)               (None, 64, 64, 8)         0         \n",
      "_________________________________________________________________\n",
      "max_pooling2d_1 (MaxPooling2 (None, 8, 8, 8)           0         \n",
      "_________________________________________________________________\n",
      "conv2d_2 (Conv2D)            (None, 8, 8, 16)          528       \n",
      "_________________________________________________________________\n",
      "re_lu_2 (ReLU)               (None, 8, 8, 16)          0         \n",
      "_________________________________________________________________\n",
      "max_pooling2d_2 (MaxPooling2 (None, 2, 2, 16)          0         \n",
      "_________________________________________________________________\n",
      "flatten_1 (Flatten)          (None, 64)                0         \n",
      "_________________________________________________________________\n",
      "dense_1 (Dense)              (None, 6)                 390       \n",
      "=================================================================\n",
      "Total params: 1,310\n",
      "Trainable params: 1,310\n",
      "Non-trainable params: 0\n",
      "_________________________________________________________________\n",
      "\u001b[32mAll tests passed!\u001b[0m\n"
     ]
    }
   ],
   "source": [
    "conv_model = convolutional_model((64, 64, 3))\n",
    "conv_model.compile(optimizer='adam',\n",
    "                  loss='categorical_crossentropy',\n",
    "                  metrics=['accuracy'])\n",
    "conv_model.summary()\n",
    "    \n",
    "output = [['InputLayer', [(None, 64, 64, 3)], 0],\n",
    "        ['Conv2D', (None, 64, 64, 8), 392, 'same', 'linear', 'GlorotUniform'],\n",
    "        ['ReLU', (None, 64, 64, 8), 0],\n",
    "        ['MaxPooling2D', (None, 8, 8, 8), 0, (8, 8), (8, 8), 'same'],\n",
    "        ['Conv2D', (None, 8, 8, 16), 528, 'same', 'linear', 'GlorotUniform'],\n",
    "        ['ReLU', (None, 8, 8, 16), 0],\n",
    "        ['MaxPooling2D', (None, 2, 2, 16), 0, (4, 4), (4, 4), 'same'],\n",
    "        ['Flatten', (None, 64), 0],\n",
    "        ['Dense', (None, 6), 390, 'softmax']]\n",
    "    \n",
    "comparator(summary(conv_model), output)"
   ]
  },
  {
   "cell_type": "markdown",
   "metadata": {},
   "source": [
    "Both the Sequential and Functional APIs return a TF Keras model object. The only difference is how inputs are handled inside the object model! "
   ]
  },
  {
   "cell_type": "markdown",
   "metadata": {},
   "source": [
    "<a name='4-4'></a>\n",
    "### 4.4 - Train the Model"
   ]
  },
  {
   "cell_type": "code",
   "execution_count": 26,
   "metadata": {},
   "outputs": [
    {
     "name": "stdout",
     "output_type": "stream",
     "text": [
      "Epoch 1/100\n",
      "17/17 [==============================] - 2s 101ms/step - loss: 1.7951 - accuracy: 0.1648 - val_loss: 1.7881 - val_accuracy: 0.1667\n",
      "Epoch 2/100\n",
      "17/17 [==============================] - 2s 100ms/step - loss: 1.7873 - accuracy: 0.1861 - val_loss: 1.7853 - val_accuracy: 0.2500\n",
      "Epoch 3/100\n",
      "17/17 [==============================] - 2s 100ms/step - loss: 1.7842 - accuracy: 0.2435 - val_loss: 1.7821 - val_accuracy: 0.2500\n",
      "Epoch 4/100\n",
      "17/17 [==============================] - 2s 95ms/step - loss: 1.7806 - accuracy: 0.2713 - val_loss: 1.7782 - val_accuracy: 0.3167\n",
      "Epoch 5/100\n",
      "17/17 [==============================] - 2s 94ms/step - loss: 1.7763 - accuracy: 0.2972 - val_loss: 1.7708 - val_accuracy: 0.3333\n",
      "Epoch 6/100\n",
      "17/17 [==============================] - 2s 95ms/step - loss: 1.7691 - accuracy: 0.3435 - val_loss: 1.7626 - val_accuracy: 0.3083\n",
      "Epoch 7/100\n",
      "17/17 [==============================] - 2s 94ms/step - loss: 1.7595 - accuracy: 0.3667 - val_loss: 1.7529 - val_accuracy: 0.3250\n",
      "Epoch 8/100\n",
      "17/17 [==============================] - 2s 95ms/step - loss: 1.7471 - accuracy: 0.3907 - val_loss: 1.7371 - val_accuracy: 0.3500\n",
      "Epoch 9/100\n",
      "17/17 [==============================] - 2s 100ms/step - loss: 1.7318 - accuracy: 0.3806 - val_loss: 1.7185 - val_accuracy: 0.4083\n",
      "Epoch 10/100\n",
      "17/17 [==============================] - 2s 94ms/step - loss: 1.7110 - accuracy: 0.4037 - val_loss: 1.6952 - val_accuracy: 0.4333\n",
      "Epoch 11/100\n",
      "17/17 [==============================] - 2s 95ms/step - loss: 1.6859 - accuracy: 0.4352 - val_loss: 1.6679 - val_accuracy: 0.4750\n",
      "Epoch 12/100\n",
      "17/17 [==============================] - 2s 95ms/step - loss: 1.6556 - accuracy: 0.4352 - val_loss: 1.6354 - val_accuracy: 0.4583\n",
      "Epoch 13/100\n",
      "17/17 [==============================] - 2s 95ms/step - loss: 1.6209 - accuracy: 0.4426 - val_loss: 1.5995 - val_accuracy: 0.4250\n",
      "Epoch 14/100\n",
      "17/17 [==============================] - 2s 100ms/step - loss: 1.5812 - accuracy: 0.4500 - val_loss: 1.5630 - val_accuracy: 0.4333\n",
      "Epoch 15/100\n",
      "17/17 [==============================] - 2s 95ms/step - loss: 1.5389 - accuracy: 0.4787 - val_loss: 1.5204 - val_accuracy: 0.4583\n",
      "Epoch 16/100\n",
      "17/17 [==============================] - 2s 94ms/step - loss: 1.4951 - accuracy: 0.5019 - val_loss: 1.4758 - val_accuracy: 0.4667\n",
      "Epoch 17/100\n",
      "17/17 [==============================] - 2s 95ms/step - loss: 1.4502 - accuracy: 0.5204 - val_loss: 1.4311 - val_accuracy: 0.4750\n",
      "Epoch 18/100\n",
      "17/17 [==============================] - 2s 95ms/step - loss: 1.4078 - accuracy: 0.5315 - val_loss: 1.3891 - val_accuracy: 0.5000\n",
      "Epoch 19/100\n",
      "17/17 [==============================] - 2s 95ms/step - loss: 1.3660 - accuracy: 0.5417 - val_loss: 1.3496 - val_accuracy: 0.5250\n",
      "Epoch 20/100\n",
      "17/17 [==============================] - 2s 94ms/step - loss: 1.3262 - accuracy: 0.5556 - val_loss: 1.3133 - val_accuracy: 0.5250\n",
      "Epoch 21/100\n",
      "17/17 [==============================] - 2s 95ms/step - loss: 1.2889 - accuracy: 0.5685 - val_loss: 1.2796 - val_accuracy: 0.5250\n",
      "Epoch 22/100\n",
      "17/17 [==============================] - 2s 95ms/step - loss: 1.2534 - accuracy: 0.5769 - val_loss: 1.2468 - val_accuracy: 0.5667\n",
      "Epoch 23/100\n",
      "17/17 [==============================] - 2s 95ms/step - loss: 1.2205 - accuracy: 0.5880 - val_loss: 1.2156 - val_accuracy: 0.5750\n",
      "Epoch 24/100\n",
      "17/17 [==============================] - 2s 95ms/step - loss: 1.1897 - accuracy: 0.5944 - val_loss: 1.1869 - val_accuracy: 0.5750\n",
      "Epoch 25/100\n",
      "17/17 [==============================] - 2s 94ms/step - loss: 1.1604 - accuracy: 0.6102 - val_loss: 1.1579 - val_accuracy: 0.5833\n",
      "Epoch 26/100\n",
      "17/17 [==============================] - 2s 96ms/step - loss: 1.1342 - accuracy: 0.6130 - val_loss: 1.1335 - val_accuracy: 0.5750\n",
      "Epoch 27/100\n",
      "17/17 [==============================] - 2s 94ms/step - loss: 1.1095 - accuracy: 0.6278 - val_loss: 1.1104 - val_accuracy: 0.5833\n",
      "Epoch 28/100\n",
      "17/17 [==============================] - 2s 99ms/step - loss: 1.0864 - accuracy: 0.6287 - val_loss: 1.0888 - val_accuracy: 0.5917\n",
      "Epoch 29/100\n",
      "17/17 [==============================] - 2s 94ms/step - loss: 1.0651 - accuracy: 0.6389 - val_loss: 1.0691 - val_accuracy: 0.5833\n",
      "Epoch 30/100\n",
      "17/17 [==============================] - 2s 99ms/step - loss: 1.0451 - accuracy: 0.6435 - val_loss: 1.0503 - val_accuracy: 0.5833\n",
      "Epoch 31/100\n",
      "17/17 [==============================] - 2s 94ms/step - loss: 1.0260 - accuracy: 0.6491 - val_loss: 1.0330 - val_accuracy: 0.5917\n",
      "Epoch 32/100\n",
      "17/17 [==============================] - 2s 95ms/step - loss: 1.0080 - accuracy: 0.6556 - val_loss: 1.0167 - val_accuracy: 0.5917\n",
      "Epoch 33/100\n",
      "17/17 [==============================] - 2s 95ms/step - loss: 0.9909 - accuracy: 0.6583 - val_loss: 1.0011 - val_accuracy: 0.5917\n",
      "Epoch 34/100\n",
      "17/17 [==============================] - 2s 94ms/step - loss: 0.9750 - accuracy: 0.6620 - val_loss: 0.9868 - val_accuracy: 0.5917\n",
      "Epoch 35/100\n",
      "17/17 [==============================] - 2s 100ms/step - loss: 0.9596 - accuracy: 0.6694 - val_loss: 0.9731 - val_accuracy: 0.6083\n",
      "Epoch 36/100\n",
      "17/17 [==============================] - 2s 95ms/step - loss: 0.9452 - accuracy: 0.6759 - val_loss: 0.9606 - val_accuracy: 0.6083\n",
      "Epoch 37/100\n",
      "17/17 [==============================] - 2s 94ms/step - loss: 0.9315 - accuracy: 0.6796 - val_loss: 0.9490 - val_accuracy: 0.6083\n",
      "Epoch 38/100\n",
      "17/17 [==============================] - 2s 95ms/step - loss: 0.9185 - accuracy: 0.6861 - val_loss: 0.9381 - val_accuracy: 0.6333\n",
      "Epoch 39/100\n",
      "17/17 [==============================] - 2s 100ms/step - loss: 0.9061 - accuracy: 0.6935 - val_loss: 0.9275 - val_accuracy: 0.6250\n",
      "Epoch 40/100\n",
      "17/17 [==============================] - 2s 95ms/step - loss: 0.8942 - accuracy: 0.7028 - val_loss: 0.9176 - val_accuracy: 0.6250\n",
      "Epoch 41/100\n",
      "17/17 [==============================] - 2s 94ms/step - loss: 0.8825 - accuracy: 0.7074 - val_loss: 0.9072 - val_accuracy: 0.6250\n",
      "Epoch 42/100\n",
      "17/17 [==============================] - 2s 99ms/step - loss: 0.8702 - accuracy: 0.7093 - val_loss: 0.8957 - val_accuracy: 0.6167\n",
      "Epoch 43/100\n",
      "17/17 [==============================] - 2s 95ms/step - loss: 0.8585 - accuracy: 0.7120 - val_loss: 0.8860 - val_accuracy: 0.6250\n",
      "Epoch 44/100\n",
      "17/17 [==============================] - 2s 96ms/step - loss: 0.8471 - accuracy: 0.7194 - val_loss: 0.8765 - val_accuracy: 0.6167\n",
      "Epoch 45/100\n",
      "17/17 [==============================] - 2s 94ms/step - loss: 0.8365 - accuracy: 0.7231 - val_loss: 0.8677 - val_accuracy: 0.6250\n",
      "Epoch 46/100\n",
      "17/17 [==============================] - 2s 95ms/step - loss: 0.8257 - accuracy: 0.7296 - val_loss: 0.8593 - val_accuracy: 0.6250\n",
      "Epoch 47/100\n",
      "17/17 [==============================] - 2s 100ms/step - loss: 0.8152 - accuracy: 0.7324 - val_loss: 0.8504 - val_accuracy: 0.6250\n",
      "Epoch 48/100\n",
      "17/17 [==============================] - 2s 94ms/step - loss: 0.8051 - accuracy: 0.7343 - val_loss: 0.8422 - val_accuracy: 0.6250\n",
      "Epoch 49/100\n",
      "17/17 [==============================] - 2s 94ms/step - loss: 0.7948 - accuracy: 0.7389 - val_loss: 0.8333 - val_accuracy: 0.6333\n",
      "Epoch 50/100\n",
      "17/17 [==============================] - 2s 95ms/step - loss: 0.7852 - accuracy: 0.7444 - val_loss: 0.8250 - val_accuracy: 0.6333\n",
      "Epoch 51/100\n",
      "17/17 [==============================] - 2s 95ms/step - loss: 0.7754 - accuracy: 0.7519 - val_loss: 0.8169 - val_accuracy: 0.6417\n",
      "Epoch 52/100\n",
      "17/17 [==============================] - 2s 94ms/step - loss: 0.7661 - accuracy: 0.7565 - val_loss: 0.8085 - val_accuracy: 0.6333\n",
      "Epoch 53/100\n",
      "17/17 [==============================] - 2s 94ms/step - loss: 0.7569 - accuracy: 0.7583 - val_loss: 0.8013 - val_accuracy: 0.6333\n",
      "Epoch 54/100\n",
      "17/17 [==============================] - 2s 94ms/step - loss: 0.7481 - accuracy: 0.7602 - val_loss: 0.7949 - val_accuracy: 0.6333\n",
      "Epoch 55/100\n",
      "17/17 [==============================] - 2s 94ms/step - loss: 0.7388 - accuracy: 0.7630 - val_loss: 0.7872 - val_accuracy: 0.6333\n",
      "Epoch 56/100\n",
      "17/17 [==============================] - 2s 94ms/step - loss: 0.7296 - accuracy: 0.7620 - val_loss: 0.7779 - val_accuracy: 0.6417\n",
      "Epoch 57/100\n",
      "17/17 [==============================] - 2s 99ms/step - loss: 0.7201 - accuracy: 0.7611 - val_loss: 0.7674 - val_accuracy: 0.6583\n",
      "Epoch 58/100\n",
      "17/17 [==============================] - 2s 94ms/step - loss: 0.7112 - accuracy: 0.7620 - val_loss: 0.7608 - val_accuracy: 0.6583\n",
      "Epoch 59/100\n",
      "17/17 [==============================] - 2s 90ms/step - loss: 0.7028 - accuracy: 0.7676 - val_loss: 0.7524 - val_accuracy: 0.6667\n",
      "Epoch 60/100\n",
      "17/17 [==============================] - 2s 94ms/step - loss: 0.6943 - accuracy: 0.7704 - val_loss: 0.7464 - val_accuracy: 0.6750\n",
      "Epoch 61/100\n",
      "17/17 [==============================] - 2s 95ms/step - loss: 0.6866 - accuracy: 0.7741 - val_loss: 0.7391 - val_accuracy: 0.6750\n",
      "Epoch 62/100\n",
      "17/17 [==============================] - 2s 95ms/step - loss: 0.6789 - accuracy: 0.7769 - val_loss: 0.7331 - val_accuracy: 0.6750\n",
      "Epoch 63/100\n",
      "17/17 [==============================] - 2s 95ms/step - loss: 0.6717 - accuracy: 0.7796 - val_loss: 0.7267 - val_accuracy: 0.6833\n",
      "Epoch 64/100\n",
      "17/17 [==============================] - 2s 94ms/step - loss: 0.6644 - accuracy: 0.7824 - val_loss: 0.7203 - val_accuracy: 0.6833\n",
      "Epoch 65/100\n",
      "17/17 [==============================] - 2s 94ms/step - loss: 0.6572 - accuracy: 0.7833 - val_loss: 0.7144 - val_accuracy: 0.6833\n",
      "Epoch 66/100\n",
      "17/17 [==============================] - 2s 95ms/step - loss: 0.6496 - accuracy: 0.7843 - val_loss: 0.7120 - val_accuracy: 0.6917\n",
      "Epoch 67/100\n",
      "17/17 [==============================] - 2s 94ms/step - loss: 0.6433 - accuracy: 0.7898 - val_loss: 0.7023 - val_accuracy: 0.7000\n",
      "Epoch 68/100\n",
      "17/17 [==============================] - 2s 94ms/step - loss: 0.6346 - accuracy: 0.7907 - val_loss: 0.7049 - val_accuracy: 0.6833\n",
      "Epoch 69/100\n",
      "17/17 [==============================] - 2s 95ms/step - loss: 0.6318 - accuracy: 0.7907 - val_loss: 0.6937 - val_accuracy: 0.7083\n",
      "Epoch 70/100\n",
      "17/17 [==============================] - 2s 100ms/step - loss: 0.6211 - accuracy: 0.7935 - val_loss: 0.6950 - val_accuracy: 0.6917\n",
      "Epoch 71/100\n",
      "17/17 [==============================] - 2s 99ms/step - loss: 0.6158 - accuracy: 0.7981 - val_loss: 0.6835 - val_accuracy: 0.7167\n",
      "Epoch 72/100\n",
      "17/17 [==============================] - 2s 95ms/step - loss: 0.6070 - accuracy: 0.8037 - val_loss: 0.6844 - val_accuracy: 0.6917\n",
      "Epoch 73/100\n",
      "17/17 [==============================] - 2s 95ms/step - loss: 0.6022 - accuracy: 0.8028 - val_loss: 0.6767 - val_accuracy: 0.7083\n",
      "Epoch 74/100\n",
      "17/17 [==============================] - 2s 95ms/step - loss: 0.5953 - accuracy: 0.8065 - val_loss: 0.6723 - val_accuracy: 0.7167\n",
      "Epoch 75/100\n",
      "17/17 [==============================] - 2s 94ms/step - loss: 0.5885 - accuracy: 0.8083 - val_loss: 0.6686 - val_accuracy: 0.7167\n",
      "Epoch 76/100\n",
      "17/17 [==============================] - 2s 94ms/step - loss: 0.5826 - accuracy: 0.8102 - val_loss: 0.6641 - val_accuracy: 0.7167\n",
      "Epoch 77/100\n",
      "17/17 [==============================] - 2s 95ms/step - loss: 0.5768 - accuracy: 0.8111 - val_loss: 0.6596 - val_accuracy: 0.7250\n",
      "Epoch 78/100\n",
      "17/17 [==============================] - 2s 100ms/step - loss: 0.5712 - accuracy: 0.8139 - val_loss: 0.6552 - val_accuracy: 0.7333\n",
      "Epoch 79/100\n",
      "17/17 [==============================] - 2s 95ms/step - loss: 0.5661 - accuracy: 0.8167 - val_loss: 0.6497 - val_accuracy: 0.7333\n",
      "Epoch 80/100\n",
      "17/17 [==============================] - 2s 95ms/step - loss: 0.5608 - accuracy: 0.8176 - val_loss: 0.6449 - val_accuracy: 0.7417\n",
      "Epoch 81/100\n",
      "17/17 [==============================] - 2s 95ms/step - loss: 0.5558 - accuracy: 0.8185 - val_loss: 0.6399 - val_accuracy: 0.7417\n",
      "Epoch 82/100\n",
      "17/17 [==============================] - 2s 95ms/step - loss: 0.5508 - accuracy: 0.8176 - val_loss: 0.6355 - val_accuracy: 0.7417\n",
      "Epoch 83/100\n",
      "17/17 [==============================] - 2s 100ms/step - loss: 0.5457 - accuracy: 0.8176 - val_loss: 0.6319 - val_accuracy: 0.7417\n",
      "Epoch 84/100\n",
      "17/17 [==============================] - 2s 99ms/step - loss: 0.5410 - accuracy: 0.8194 - val_loss: 0.6286 - val_accuracy: 0.7417\n",
      "Epoch 85/100\n",
      "17/17 [==============================] - 2s 96ms/step - loss: 0.5363 - accuracy: 0.8213 - val_loss: 0.6252 - val_accuracy: 0.7417\n",
      "Epoch 86/100\n",
      "17/17 [==============================] - 2s 95ms/step - loss: 0.5319 - accuracy: 0.8213 - val_loss: 0.6211 - val_accuracy: 0.7417\n",
      "Epoch 87/100\n",
      "17/17 [==============================] - 2s 100ms/step - loss: 0.5272 - accuracy: 0.8241 - val_loss: 0.6179 - val_accuracy: 0.7417\n",
      "Epoch 88/100\n",
      "17/17 [==============================] - 2s 94ms/step - loss: 0.5228 - accuracy: 0.8278 - val_loss: 0.6140 - val_accuracy: 0.7417\n",
      "Epoch 89/100\n",
      "17/17 [==============================] - 2s 94ms/step - loss: 0.5185 - accuracy: 0.8278 - val_loss: 0.6111 - val_accuracy: 0.7417\n",
      "Epoch 90/100\n",
      "17/17 [==============================] - 2s 105ms/step - loss: 0.5141 - accuracy: 0.8315 - val_loss: 0.6079 - val_accuracy: 0.7417\n",
      "Epoch 91/100\n",
      "17/17 [==============================] - 2s 94ms/step - loss: 0.5102 - accuracy: 0.8343 - val_loss: 0.6052 - val_accuracy: 0.7583\n",
      "Epoch 92/100\n",
      "17/17 [==============================] - 2s 94ms/step - loss: 0.5061 - accuracy: 0.8343 - val_loss: 0.6009 - val_accuracy: 0.7583\n",
      "Epoch 93/100\n",
      "17/17 [==============================] - 2s 89ms/step - loss: 0.5022 - accuracy: 0.8343 - val_loss: 0.5986 - val_accuracy: 0.7583\n",
      "Epoch 94/100\n",
      "17/17 [==============================] - 2s 95ms/step - loss: 0.4984 - accuracy: 0.8343 - val_loss: 0.5948 - val_accuracy: 0.7583\n",
      "Epoch 95/100\n",
      "17/17 [==============================] - 2s 95ms/step - loss: 0.4945 - accuracy: 0.8343 - val_loss: 0.5931 - val_accuracy: 0.7583\n",
      "Epoch 96/100\n",
      "17/17 [==============================] - 2s 96ms/step - loss: 0.4909 - accuracy: 0.8343 - val_loss: 0.5884 - val_accuracy: 0.7583\n",
      "Epoch 97/100\n",
      "17/17 [==============================] - 2s 94ms/step - loss: 0.4873 - accuracy: 0.8389 - val_loss: 0.5864 - val_accuracy: 0.7667\n",
      "Epoch 98/100\n",
      "17/17 [==============================] - 2s 95ms/step - loss: 0.4837 - accuracy: 0.8407 - val_loss: 0.5831 - val_accuracy: 0.7667\n",
      "Epoch 99/100\n",
      "17/17 [==============================] - 2s 95ms/step - loss: 0.4803 - accuracy: 0.8435 - val_loss: 0.5811 - val_accuracy: 0.7667\n",
      "Epoch 100/100\n",
      "17/17 [==============================] - 2s 94ms/step - loss: 0.4770 - accuracy: 0.8426 - val_loss: 0.5780 - val_accuracy: 0.7667\n"
     ]
    }
   ],
   "source": [
    "train_dataset = tf.data.Dataset.from_tensor_slices((X_train, Y_train)).batch(64)\n",
    "test_dataset = tf.data.Dataset.from_tensor_slices((X_test, Y_test)).batch(64)\n",
    "history = conv_model.fit(train_dataset, epochs=100, validation_data=test_dataset)"
   ]
  },
  {
   "cell_type": "markdown",
   "metadata": {},
   "source": [
    "<a name='5'></a>\n",
    "## 5 - History Object \n",
    "\n",
    "The history object is an output of the `.fit()` operation, and provides a record of all the loss and metric values in memory. It's stored as a dictionary that you can retrieve at `history.history`: "
   ]
  },
  {
   "cell_type": "code",
   "execution_count": 27,
   "metadata": {},
   "outputs": [
    {
     "data": {
      "text/plain": [
       "{'loss': [1.795082688331604,\n",
       "  1.7873462438583374,\n",
       "  1.784152626991272,\n",
       "  1.780645728111267,\n",
       "  1.7762582302093506,\n",
       "  1.7690845727920532,\n",
       "  1.7595421075820923,\n",
       "  1.7471402883529663,\n",
       "  1.7317863702774048,\n",
       "  1.7110466957092285,\n",
       "  1.6858710050582886,\n",
       "  1.655574917793274,\n",
       "  1.6208674907684326,\n",
       "  1.5811840295791626,\n",
       "  1.5388753414154053,\n",
       "  1.4951014518737793,\n",
       "  1.4502495527267456,\n",
       "  1.4078257083892822,\n",
       "  1.3660368919372559,\n",
       "  1.326239824295044,\n",
       "  1.288949966430664,\n",
       "  1.253434181213379,\n",
       "  1.2204662561416626,\n",
       "  1.1897494792938232,\n",
       "  1.160416841506958,\n",
       "  1.1342188119888306,\n",
       "  1.1095330715179443,\n",
       "  1.086439847946167,\n",
       "  1.0650581121444702,\n",
       "  1.0451151132583618,\n",
       "  1.0260493755340576,\n",
       "  1.0079612731933594,\n",
       "  0.9909189939498901,\n",
       "  0.9749653935432434,\n",
       "  0.9596445560455322,\n",
       "  0.9451683759689331,\n",
       "  0.9314731359481812,\n",
       "  0.9185183048248291,\n",
       "  0.9060916304588318,\n",
       "  0.8941688537597656,\n",
       "  0.8825415968894958,\n",
       "  0.8701643943786621,\n",
       "  0.8584988117218018,\n",
       "  0.8470673561096191,\n",
       "  0.836499810218811,\n",
       "  0.8257097601890564,\n",
       "  0.8151545524597168,\n",
       "  0.8050591349601746,\n",
       "  0.7947885394096375,\n",
       "  0.7851855754852295,\n",
       "  0.7754462361335754,\n",
       "  0.7660948038101196,\n",
       "  0.7569347620010376,\n",
       "  0.7481067776679993,\n",
       "  0.7387800216674805,\n",
       "  0.7296055555343628,\n",
       "  0.7201340198516846,\n",
       "  0.711234986782074,\n",
       "  0.7028348445892334,\n",
       "  0.6943406462669373,\n",
       "  0.686553955078125,\n",
       "  0.6789458394050598,\n",
       "  0.6716538667678833,\n",
       "  0.6644461154937744,\n",
       "  0.6571556329727173,\n",
       "  0.6496281623840332,\n",
       "  0.643253743648529,\n",
       "  0.6346178650856018,\n",
       "  0.6318270564079285,\n",
       "  0.6210904121398926,\n",
       "  0.6157602071762085,\n",
       "  0.6069725751876831,\n",
       "  0.6022107005119324,\n",
       "  0.5952659249305725,\n",
       "  0.5885179042816162,\n",
       "  0.5826156139373779,\n",
       "  0.5768450498580933,\n",
       "  0.5711991786956787,\n",
       "  0.5660754442214966,\n",
       "  0.5607517957687378,\n",
       "  0.5557541251182556,\n",
       "  0.550797164440155,\n",
       "  0.5457422137260437,\n",
       "  0.5409693717956543,\n",
       "  0.5362897515296936,\n",
       "  0.531933069229126,\n",
       "  0.52723628282547,\n",
       "  0.5228357315063477,\n",
       "  0.5185343027114868,\n",
       "  0.514143168926239,\n",
       "  0.5101786255836487,\n",
       "  0.5060928463935852,\n",
       "  0.5022462010383606,\n",
       "  0.4983648657798767,\n",
       "  0.4944971799850464,\n",
       "  0.4909406304359436,\n",
       "  0.4873211979866028,\n",
       "  0.48369893431663513,\n",
       "  0.48032164573669434,\n",
       "  0.4770212173461914],\n",
       " 'accuracy': [0.1648148149251938,\n",
       "  0.18611110746860504,\n",
       "  0.24351851642131805,\n",
       "  0.27129629254341125,\n",
       "  0.29722222685813904,\n",
       "  0.34351852536201477,\n",
       "  0.36666667461395264,\n",
       "  0.3907407522201538,\n",
       "  0.38055557012557983,\n",
       "  0.4037036895751953,\n",
       "  0.43518519401550293,\n",
       "  0.43518519401550293,\n",
       "  0.442592591047287,\n",
       "  0.44999998807907104,\n",
       "  0.47870370745658875,\n",
       "  0.5018518567085266,\n",
       "  0.520370364189148,\n",
       "  0.5314815044403076,\n",
       "  0.5416666865348816,\n",
       "  0.5555555820465088,\n",
       "  0.5685185194015503,\n",
       "  0.5768518447875977,\n",
       "  0.5879629850387573,\n",
       "  0.5944444537162781,\n",
       "  0.6101852059364319,\n",
       "  0.6129629611968994,\n",
       "  0.6277777552604675,\n",
       "  0.6287037134170532,\n",
       "  0.6388888955116272,\n",
       "  0.6435185074806213,\n",
       "  0.6490740776062012,\n",
       "  0.6555555462837219,\n",
       "  0.6583333611488342,\n",
       "  0.6620370149612427,\n",
       "  0.6694444417953491,\n",
       "  0.6759259104728699,\n",
       "  0.6796296238899231,\n",
       "  0.6861110925674438,\n",
       "  0.6935185194015503,\n",
       "  0.7027778029441833,\n",
       "  0.7074074149131775,\n",
       "  0.7092592716217041,\n",
       "  0.7120370268821716,\n",
       "  0.7194444537162781,\n",
       "  0.7231481671333313,\n",
       "  0.729629635810852,\n",
       "  0.7324073910713196,\n",
       "  0.7342592477798462,\n",
       "  0.7388888597488403,\n",
       "  0.7444444298744202,\n",
       "  0.7518518567085266,\n",
       "  0.7564814686775208,\n",
       "  0.7583333253860474,\n",
       "  0.760185182094574,\n",
       "  0.7629629373550415,\n",
       "  0.7620370388031006,\n",
       "  0.7611111402511597,\n",
       "  0.7620370388031006,\n",
       "  0.7675926089286804,\n",
       "  0.770370364189148,\n",
       "  0.7740740776062012,\n",
       "  0.7768518328666687,\n",
       "  0.779629647731781,\n",
       "  0.7824074029922485,\n",
       "  0.7833333611488342,\n",
       "  0.7842592597007751,\n",
       "  0.789814829826355,\n",
       "  0.7907407283782959,\n",
       "  0.7907407283782959,\n",
       "  0.7935185432434082,\n",
       "  0.7981481552124023,\n",
       "  0.8037037253379822,\n",
       "  0.8027777671813965,\n",
       "  0.8064814805984497,\n",
       "  0.8083333373069763,\n",
       "  0.8101851940155029,\n",
       "  0.8111110925674438,\n",
       "  0.8138889074325562,\n",
       "  0.8166666626930237,\n",
       "  0.8175926208496094,\n",
       "  0.8185185194015503,\n",
       "  0.8175926208496094,\n",
       "  0.8175926208496094,\n",
       "  0.8194444179534912,\n",
       "  0.8212962746620178,\n",
       "  0.8212962746620178,\n",
       "  0.8240740895271301,\n",
       "  0.8277778029441833,\n",
       "  0.8277778029441833,\n",
       "  0.8314814567565918,\n",
       "  0.8342592716217041,\n",
       "  0.8342592716217041,\n",
       "  0.8342592716217041,\n",
       "  0.8342592716217041,\n",
       "  0.8342592716217041,\n",
       "  0.8342592716217041,\n",
       "  0.8388888835906982,\n",
       "  0.8407407402992249,\n",
       "  0.8435184955596924,\n",
       "  0.8425925970077515],\n",
       " 'val_loss': [1.7880762815475464,\n",
       "  1.785327672958374,\n",
       "  1.7821276187896729,\n",
       "  1.7782334089279175,\n",
       "  1.7707793712615967,\n",
       "  1.7625869512557983,\n",
       "  1.752903699874878,\n",
       "  1.737140417098999,\n",
       "  1.7184618711471558,\n",
       "  1.6951602697372437,\n",
       "  1.667932152748108,\n",
       "  1.6354447603225708,\n",
       "  1.5994585752487183,\n",
       "  1.5629562139511108,\n",
       "  1.5204311609268188,\n",
       "  1.4758087396621704,\n",
       "  1.4310870170593262,\n",
       "  1.3890793323516846,\n",
       "  1.3495851755142212,\n",
       "  1.313323736190796,\n",
       "  1.2795885801315308,\n",
       "  1.2468249797821045,\n",
       "  1.2155578136444092,\n",
       "  1.1868788003921509,\n",
       "  1.1578929424285889,\n",
       "  1.1335078477859497,\n",
       "  1.1103622913360596,\n",
       "  1.0887516736984253,\n",
       "  1.0690850019454956,\n",
       "  1.0502945184707642,\n",
       "  1.0329787731170654,\n",
       "  1.0167454481124878,\n",
       "  1.0010960102081299,\n",
       "  0.9867600798606873,\n",
       "  0.9730566740036011,\n",
       "  0.9605505466461182,\n",
       "  0.948986291885376,\n",
       "  0.9380719661712646,\n",
       "  0.9275028109550476,\n",
       "  0.9175807237625122,\n",
       "  0.9071679711341858,\n",
       "  0.8957429528236389,\n",
       "  0.8860167264938354,\n",
       "  0.8765205144882202,\n",
       "  0.8677161931991577,\n",
       "  0.8592520952224731,\n",
       "  0.8504171967506409,\n",
       "  0.8421746492385864,\n",
       "  0.8333113193511963,\n",
       "  0.8250287175178528,\n",
       "  0.8169288635253906,\n",
       "  0.8084601163864136,\n",
       "  0.8012697100639343,\n",
       "  0.7949093580245972,\n",
       "  0.787182629108429,\n",
       "  0.7778676152229309,\n",
       "  0.7674292325973511,\n",
       "  0.7607584595680237,\n",
       "  0.7523717284202576,\n",
       "  0.7463786602020264,\n",
       "  0.7391286492347717,\n",
       "  0.7330834865570068,\n",
       "  0.7267163395881653,\n",
       "  0.7203221917152405,\n",
       "  0.7144438624382019,\n",
       "  0.711988627910614,\n",
       "  0.702346920967102,\n",
       "  0.7049286961555481,\n",
       "  0.6936967968940735,\n",
       "  0.6950247287750244,\n",
       "  0.683548629283905,\n",
       "  0.6844371557235718,\n",
       "  0.6767265796661377,\n",
       "  0.6723009943962097,\n",
       "  0.668563187122345,\n",
       "  0.6640799045562744,\n",
       "  0.6596013903617859,\n",
       "  0.6551827788352966,\n",
       "  0.6496857404708862,\n",
       "  0.6448915600776672,\n",
       "  0.6399127840995789,\n",
       "  0.6354711055755615,\n",
       "  0.6319299340248108,\n",
       "  0.6286318302154541,\n",
       "  0.6252015829086304,\n",
       "  0.621107816696167,\n",
       "  0.6179150938987732,\n",
       "  0.6139535903930664,\n",
       "  0.6111469268798828,\n",
       "  0.6079282164573669,\n",
       "  0.6051639318466187,\n",
       "  0.6008630394935608,\n",
       "  0.5986348390579224,\n",
       "  0.5948282480239868,\n",
       "  0.593121349811554,\n",
       "  0.5883562564849854,\n",
       "  0.5864259004592896,\n",
       "  0.5831243395805359,\n",
       "  0.5811038613319397,\n",
       "  0.577989399433136],\n",
       " 'val_accuracy': [0.1666666716337204,\n",
       "  0.25,\n",
       "  0.25,\n",
       "  0.3166666626930237,\n",
       "  0.3333333432674408,\n",
       "  0.3083333373069763,\n",
       "  0.32499998807907104,\n",
       "  0.3499999940395355,\n",
       "  0.40833333134651184,\n",
       "  0.4333333373069763,\n",
       "  0.4749999940395355,\n",
       "  0.4583333432674408,\n",
       "  0.42500001192092896,\n",
       "  0.4333333373069763,\n",
       "  0.4583333432674408,\n",
       "  0.46666666865348816,\n",
       "  0.4749999940395355,\n",
       "  0.5,\n",
       "  0.5249999761581421,\n",
       "  0.5249999761581421,\n",
       "  0.5249999761581421,\n",
       "  0.5666666626930237,\n",
       "  0.574999988079071,\n",
       "  0.574999988079071,\n",
       "  0.5833333134651184,\n",
       "  0.574999988079071,\n",
       "  0.5833333134651184,\n",
       "  0.5916666388511658,\n",
       "  0.5833333134651184,\n",
       "  0.5833333134651184,\n",
       "  0.5916666388511658,\n",
       "  0.5916666388511658,\n",
       "  0.5916666388511658,\n",
       "  0.5916666388511658,\n",
       "  0.6083333492279053,\n",
       "  0.6083333492279053,\n",
       "  0.6083333492279053,\n",
       "  0.6333333253860474,\n",
       "  0.625,\n",
       "  0.625,\n",
       "  0.625,\n",
       "  0.6166666746139526,\n",
       "  0.625,\n",
       "  0.6166666746139526,\n",
       "  0.625,\n",
       "  0.625,\n",
       "  0.625,\n",
       "  0.625,\n",
       "  0.6333333253860474,\n",
       "  0.6333333253860474,\n",
       "  0.6416666507720947,\n",
       "  0.6333333253860474,\n",
       "  0.6333333253860474,\n",
       "  0.6333333253860474,\n",
       "  0.6333333253860474,\n",
       "  0.6416666507720947,\n",
       "  0.6583333611488342,\n",
       "  0.6583333611488342,\n",
       "  0.6666666865348816,\n",
       "  0.675000011920929,\n",
       "  0.675000011920929,\n",
       "  0.675000011920929,\n",
       "  0.6833333373069763,\n",
       "  0.6833333373069763,\n",
       "  0.6833333373069763,\n",
       "  0.6916666626930237,\n",
       "  0.699999988079071,\n",
       "  0.6833333373069763,\n",
       "  0.7083333134651184,\n",
       "  0.6916666626930237,\n",
       "  0.7166666388511658,\n",
       "  0.6916666626930237,\n",
       "  0.7083333134651184,\n",
       "  0.7166666388511658,\n",
       "  0.7166666388511658,\n",
       "  0.7166666388511658,\n",
       "  0.7250000238418579,\n",
       "  0.7333333492279053,\n",
       "  0.7333333492279053,\n",
       "  0.7416666746139526,\n",
       "  0.7416666746139526,\n",
       "  0.7416666746139526,\n",
       "  0.7416666746139526,\n",
       "  0.7416666746139526,\n",
       "  0.7416666746139526,\n",
       "  0.7416666746139526,\n",
       "  0.7416666746139526,\n",
       "  0.7416666746139526,\n",
       "  0.7416666746139526,\n",
       "  0.7416666746139526,\n",
       "  0.7583333253860474,\n",
       "  0.7583333253860474,\n",
       "  0.7583333253860474,\n",
       "  0.7583333253860474,\n",
       "  0.7583333253860474,\n",
       "  0.7583333253860474,\n",
       "  0.7666666507720947,\n",
       "  0.7666666507720947,\n",
       "  0.7666666507720947,\n",
       "  0.7666666507720947]}"
      ]
     },
     "execution_count": 27,
     "metadata": {},
     "output_type": "execute_result"
    }
   ],
   "source": [
    "history.history"
   ]
  },
  {
   "cell_type": "markdown",
   "metadata": {},
   "source": [
    "Now visualize the loss over time using `history.history`: "
   ]
  },
  {
   "cell_type": "code",
   "execution_count": 28,
   "metadata": {},
   "outputs": [
    {
     "data": {
      "text/plain": [
       "[Text(0, 0.5, 'Accuracy'), Text(0.5, 0, 'Epoch')]"
      ]
     },
     "execution_count": 28,
     "metadata": {},
     "output_type": "execute_result"
    },
    {
     "data": {
      "image/png": "[encoded data removed]",
      "text/plain": [
       "<Figure size 864x576 with 1 Axes>"
      ]
     },
     "metadata": {
      "needs_background": "light"
     },
     "output_type": "display_data"
    },
    {
     "data": {
      "image/png": "[encoded data removed]",
      "text/plain": [
       "<Figure size 864x576 with 1 Axes>"
      ]
     },
     "metadata": {
      "needs_background": "light"
     },
     "output_type": "display_data"
    }
   ],
   "source": [
    "# The history.history[\"loss\"] entry is a dictionary with as many values as epochs that the\n",
    "# model was trained on. \n",
    "df_loss_acc = pd.DataFrame(history.history)\n",
    "df_loss= df_loss_acc[['loss','val_loss']]\n",
    "df_loss.rename(columns={'loss':'train','val_loss':'validation'},inplace=True)\n",
    "df_acc= df_loss_acc[['accuracy','val_accuracy']]\n",
    "df_acc.rename(columns={'accuracy':'train','val_accuracy':'validation'},inplace=True)\n",
    "df_loss.plot(title='Model loss',figsize=(12,8)).set(xlabel='Epoch',ylabel='Loss')\n",
    "df_acc.plot(title='Model Accuracy',figsize=(12,8)).set(xlabel='Epoch',ylabel='Accuracy')"
   ]
  },
  {
   "cell_type": "markdown",
   "metadata": {},
   "source": [
    "**Congratulations**! You've finished the assignment and built two models: One that recognizes  smiles, and another that recognizes SIGN language with almost 80% accuracy on the test set. In addition to that, you now also understand the applications of two Keras APIs: Sequential and Functional. Nicely done! \n",
    "\n",
    "By now, you know a bit about how the Functional API works and may have glimpsed the possibilities. In your next assignment, you'll really get a feel for its power when you get the opportunity to build a very deep ConvNet, using ResNets! "
   ]
  },
  {
   "cell_type": "markdown",
   "metadata": {},
   "source": [
    "<a name='6'></a>\n",
    "## 6 - Bibliography\n",
    "\n",
    "You're always encouraged to read the official documentation. To that end, you can find the docs for the Sequential and Functional APIs here: \n",
    "\n",
    "https://www.tensorflow.org/guide/keras/sequential_model\n",
    "\n",
    "https://www.tensorflow.org/guide/keras/functional"
   ]
  }
 ],
 "metadata": {
  "coursera": {
   "course_slug": "convolutional-neural-networks",
   "graded_item_id": "bwbJV",
   "launcher_item_id": "0TkXB"
  },
  "kernelspec": {
   "display_name": "Python 3",
   "language": "python",
   "name": "python3"
  },
  "language_info": {
   "codemirror_mode": {
    "name": "ipython",
    "version": 3
   },
   "file_extension": ".py",
   "mimetype": "text/x-python",
   "name": "python",
   "nbconvert_exporter": "python",
   "pygments_lexer": "ipython3",
   "version": "3.7.6"
  }
 },
 "nbformat": 4,
 "nbformat_minor": 2
}
